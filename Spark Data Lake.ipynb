{
 "cells": [
  {
   "cell_type": "code",
   "execution_count": null,
   "metadata": {
    "editable": true
   },
   "outputs": [],
   "source": [
    "import configparser\n",
    "from datetime import datetime\n",
    "import pandas as pd\n",
    "import os\n",
    "from pyspark.sql import SparkSession\n",
    "from pyspark.sql.functions import udf, col\n",
    "from pyspark.sql.functions import (year as y, \\\n",
    "                                   month as m, \\\n",
    "                                   dayofmonth as dm, \\\n",
    "                                   hour as h, \\\n",
    "                                   weekofyear as wk, \\\n",
    "                                   dayofweek as dw, \\\n",
    "                                   date_format as dt)\n",
    "\n",
    "config = configparser.ConfigParser()\n",
    "config.read('dl.cfg')\n",
    "\n",
    "os.environ['AWS_ACCESS_KEY_ID']=config['AWS']['AWS_ACCESS_KEY_ID']\n",
    "os.environ['AWS_SECRET_ACCESS_KEY']=config['AWS']['AWS_SECRET_ACCESS_KEY']\n",
    "\n",
    "def create_spark_session():\n",
    "    spark = SparkSession \\\n",
    "        .builder \\\n",
    "        .config(\"spark.jars.packages\", \"org.apache.hadoop:hadoop-aws:2.7.0\") \\\n",
    "        .getOrCreate()\n",
    "    return spark"
   ]
  },
  {
   "cell_type": "code",
   "execution_count": null,
   "metadata": {
    "editable": true
   },
   "outputs": [],
   "source": [
    "def process_song_data(spark, input_data, output_data):\n",
    "    # get filepath to song data file\n",
    "    print('reading song data...')\n",
    "    song_data = input_data + \"song_data/A/A/A/*.json\"\n",
    "    \n",
    "    # read song data file\n",
    "    df = spark.read.json(song_data).dropna(how=\"any\").dropDuplicates()\n",
    "    #df.na.drop()\n",
    "\n",
    "    # extract columns to create songs table\n",
    "    print(\"extract columns to create songs table\")\n",
    "    songs_table = df.select('song_id', 'artist_id', 'title', 'year', 'duration').distinct()\n",
    "    \n",
    "    # write songs table to parquet files partitioned by year and artist\n",
    "    songs_table.write.mode('overwrite').partitionBy('year', 'artist_id').parquet(os.path.join(output_data, 'songs/songs.parquet'))\n",
    "\n",
    "    # extract columns to create artists table\n",
    "    print(\"extract columns to create artists table\")\n",
    "    artists_table = df.select('artist_id', 'artist_name', 'artist_location', 'artist_latitude', 'artist_longitude').distinct()\n",
    "    \n",
    "    # write artists table to parquet files\n",
    "    artists_table.write.mode('overwrite').partitionBy('artist_id').parquet(os.path.join(output_data, 'artists/artists.parquet'))\n"
   ]
  },
  {
   "cell_type": "code",
   "execution_count": null,
   "metadata": {
    "editable": true
   },
   "outputs": [],
   "source": [
    "def process_log_data(spark, input_data, output_data):\n",
    "    # get filepath to log data file\n",
    "    log_data = input_data + \"log_data/*/*/*\"\n",
    "    \n",
    "    # read log data file\n",
    "    print(\"reading log data ...\")\n",
    "    log_df = spark.read.json(log_data).dropna(how=\"any\").dropDuplicates()\n",
    "\n",
    "    # extract columns for users table    \n",
    "    print(\"extract columns for users table...\")\n",
    "    users_table = log_df.select('userId', 'firstName', 'lastName', 'gender', 'level').where(col(\"page\") == \"NextSong\").distinct()\n",
    "    \n",
    "    # write users table to parquet files\n",
    "    users_table.write.mode('overwrite').partitionBy('userId').parquet(os.path.join(output_data, 'users/users.parquet'))\n",
    "\n",
    "    # create timestamp column from original timestamp column\n",
    "    print(\"create timestamp column from original timestamp column...\")\n",
    "    get_timestamp = udf(lambda x: str(int(int(x)/1000)))\n",
    "    log_df = log_df.withColumn('timestamp', get_timestamp('ts'))\n",
    "    \n",
    "    # create datetime column from original timestamp column\n",
    "    print(\"create datetime column from original timestamp column...\")\n",
    "    get_datetime = udf(lambda x: str(datetime.fromtimestamp(int(x))))\n",
    "    log_df = log_df.withColumn('datetime', get_datetime('timestamp'))\n",
    "    \n",
    "    # extract columns to create time table\n",
    "    print(\"extract columns to create time table...\")\n",
    "    time_table = log_df.select('datetime') \\\n",
    "                    .withColumn('start_time', log_df.datetime) \\\n",
    "                    .withColumn('hour', h('datetime')) \\\n",
    "                    .withColumn('day', dm('datetime')) \\\n",
    "                    .withColumn('week', wk('datetime')) \\\n",
    "                    .withColumn('month', m('datetime')) \\\n",
    "                    .withColumn('year', y('datetime')) \\\n",
    "                    .withColumn('weekday', dw('datetime')) \\\n",
    "                    .dropDuplicates()\n",
    "    \n",
    "    # write time table to parquet files partitioned by year and month\n",
    "    time_table.write.mode('overwrite').partitionBy('year','month').parquet(os.path.join(output_data, 'time/time.parquet'))    \n",
    "\n",
    "    # read in song data to use for songplays table\n",
    "    #song_data = input_data + \"song_data/A/A/A/*.json\"\n",
    "    song_df = spark.read.json(input_data + \"song_data/A/A/A/*.json\").dropna(how=\"any\")\n",
    "    song_df = song_df.select('artist_id','artist_name','song_id', 'title').dropDuplicates()\n",
    "    \n",
    "    print(log_df)\n",
    "    print(song_df)\n",
    "    print(\"joining dataframes...\")\n",
    "    # extract columns from joined song and log datasets to create songplays table \n",
    "    songplays_table = log_df.join(song_df, (log_df.artist == song_df.artist_name) & \\\n",
    "                     (log_df.song == song_df.title))\n",
    "    songplays_table = songplays_table.select('songplay_id', 'start_time', 'user_id', 'level', 'song_id', 'artist_id', 'session_id', 'location', 'user_agent')\n",
    "\n",
    "    # write songplays table to parquet files partitioned by year and month\n",
    "    songplays_table.write.mode('overwrite').partitionBy('songplay_id').parquet(os.path.join(output_data, 'songplays/songplays.parquet'))\n",
    "    print(\"done\")"
   ]
  },
  {
   "cell_type": "code",
   "execution_count": null,
   "metadata": {
    "editable": true
   },
   "outputs": [],
   "source": [
    "def main():\n",
    "    spark = create_spark_session()\n",
    "    input_data = \"s3a://udacity-dend/\"\n",
    "    output_data = \"s3a://sparkify-datalake-242/\"\n",
    "    \n",
    "    process_song_data(spark, input_data, output_data)    \n",
    "    process_log_data(spark, input_data, output_data)\n",
    "\n",
    "if __name__ == \"__main__\":\n",
    "    main()\n",
    "\n",
    "\n"
   ]
  }
 ],
 "metadata": {
  "kernelspec": {
   "display_name": "Python 3",
   "language": "python",
   "name": "python3"
  },
  "language_info": {
   "codemirror_mode": {
    "name": "ipython",
    "version": 3
   },
   "file_extension": ".py",
   "mimetype": "text/x-python",
   "name": "python",
   "nbconvert_exporter": "python",
   "pygments_lexer": "ipython3",
   "version": "3.10.8"
  },
  "vscode": {
   "interpreter": {
    "hash": "369f2c481f4da34e4445cda3fffd2e751bd1c4d706f27375911949ba6bb62e1c"
   }
  }
 },
 "nbformat": 4,
 "nbformat_minor": 4
}
